{
 "cells": [
  {
   "cell_type": "markdown",
   "metadata": {},
   "source": [
    "# Libraries which we use"
   ]
  },
  {
   "cell_type": "code",
   "execution_count": 7,
   "metadata": {},
   "outputs": [],
   "source": [
    "import pandas as pd\n",
    "import numpy as np\n",
    "from sklearn.model_selection import cross_val_score, StratifiedKFold, train_test_split\n",
    "from sklearn.metrics import roc_auc_score\n",
    "from sklearn.tree import *\n",
    "from sklearn.ensemble import *\n",
    "import optuna\n",
    "import importlib\n",
    "import Project_5_moduls as P5\n",
    "importlib.reload(P5)  # Reload the module to ensure the latest version is used\n",
    "import warnings\n",
    "warnings.filterwarnings(\"ignore\")  # Suppress warnings for cleaner output"
   ]
  },
  {
   "cell_type": "markdown",
   "metadata": {},
   "source": [
    "# Upload dataset, Feature engineering"
   ]
  },
  {
   "cell_type": "code",
   "execution_count": 8,
   "metadata": {},
   "outputs": [],
   "source": [
    "train = pd.read_csv(\"train.csv\", index_col = 0)\n",
    "test = pd.read_csv(\"test.csv\", index_col = 0)\n",
    "seed=1\n",
    "train = P5.useful_features(train)\n",
    "test = P5.useful_features(test)\n",
    "X = train.drop(\"smoking\", axis=1)\n",
    "y = train[\"smoking\"]\n",
    "X_train, X_test, y_train, y_test = train_test_split(X, y, test_size=0.3, random_state=seed, stratify=y)\n",
    "skf = StratifiedKFold(n_splits=5, shuffle=True, random_state=seed)"
   ]
  },
  {
   "cell_type": "markdown",
   "metadata": {},
   "source": [
    "# Creating Model with checking in optuna"
   ]
  },
  {
   "cell_type": "code",
   "execution_count": null,
   "metadata": {},
   "outputs": [
    {
     "name": "stderr",
     "output_type": "stream",
     "text": [
      "[I 2024-10-28 17:48:41,893] A new study created in memory with name: no-name-68c46668-3741-49b4-a8f4-6f9036cd34cc\n",
      "[I 2024-10-28 17:49:00,442] Trial 0 finished with value: 0.8675783955876692 and parameters: {'n_estimators': 736, 'max_depth': 5, 'min_samples_split': 3, 'min_samples_leaf': 9}. Best is trial 0 with value: 0.8675783955876692.\n",
      "[I 2024-10-28 17:49:28,088] Trial 1 finished with value: 0.8781148074688485 and parameters: {'n_estimators': 460, 'max_depth': 17, 'min_samples_split': 7, 'min_samples_leaf': 1}. Best is trial 1 with value: 0.8781148074688485.\n",
      "[I 2024-10-28 17:49:48,742] Trial 2 finished with value: 0.8787969427783139 and parameters: {'n_estimators': 417, 'max_depth': 12, 'min_samples_split': 5, 'min_samples_leaf': 2}. Best is trial 2 with value: 0.8787969427783139.\n",
      "[I 2024-10-28 17:50:23,587] Trial 3 finished with value: 0.8787551140545894 and parameters: {'n_estimators': 722, 'max_depth': 27, 'min_samples_split': 5, 'min_samples_leaf': 9}. Best is trial 2 with value: 0.8787969427783139.\n",
      "[I 2024-10-28 17:50:59,014] Trial 4 finished with value: 0.8793327808176634 and parameters: {'n_estimators': 693, 'max_depth': 33, 'min_samples_split': 8, 'min_samples_leaf': 7}. Best is trial 4 with value: 0.8793327808176634.\n",
      "[I 2024-10-28 17:51:40,414] Trial 5 finished with value: 0.8788242567009229 and parameters: {'n_estimators': 834, 'max_depth': 30, 'min_samples_split': 5, 'min_samples_leaf': 8}. Best is trial 4 with value: 0.8793327808176634.\n",
      "[I 2024-10-28 17:51:57,411] Trial 6 finished with value: 0.862621848702758 and parameters: {'n_estimators': 638, 'max_depth': 4, 'min_samples_split': 9, 'min_samples_leaf': 5}. Best is trial 4 with value: 0.8793327808176634.\n",
      "[I 2024-10-28 17:52:52,821] Trial 7 finished with value: 0.8781920989476738 and parameters: {'n_estimators': 1183, 'max_depth': 10, 'min_samples_split': 6, 'min_samples_leaf': 5}. Best is trial 4 with value: 0.8793327808176634.\n",
      "[I 2024-10-28 17:53:11,089] Trial 8 finished with value: 0.8784483916083738 and parameters: {'n_estimators': 299, 'max_depth': 39, 'min_samples_split': 5, 'min_samples_leaf': 2}. Best is trial 4 with value: 0.8793327808176634.\n",
      "[I 2024-10-28 17:54:00,344] Trial 9 finished with value: 0.8794274101879479 and parameters: {'n_estimators': 1000, 'max_depth': 14, 'min_samples_split': 3, 'min_samples_leaf': 5}. Best is trial 9 with value: 0.8794274101879479.\n",
      "[I 2024-10-28 17:54:59,637] Trial 10 finished with value: 0.8792547149594 and parameters: {'n_estimators': 1151, 'max_depth': 23, 'min_samples_split': 2, 'min_samples_leaf': 4}. Best is trial 9 with value: 0.8794274101879479.\n",
      "[I 2024-10-28 17:55:45,155] Trial 11 finished with value: 0.879354405635364 and parameters: {'n_estimators': 955, 'max_depth': 37, 'min_samples_split': 9, 'min_samples_leaf': 7}. Best is trial 9 with value: 0.8794274101879479.\n",
      "[I 2024-10-28 17:56:32,913] Trial 12 finished with value: 0.8791508567745392 and parameters: {'n_estimators': 978, 'max_depth': 18, 'min_samples_split': 9, 'min_samples_leaf': 7}. Best is trial 9 with value: 0.8794274101879479.\n",
      "[I 2024-10-28 17:57:19,601] Trial 13 finished with value: 0.8789652292696128 and parameters: {'n_estimators': 1000, 'max_depth': 39, 'min_samples_split': 10, 'min_samples_leaf': 6}. Best is trial 9 with value: 0.8794274101879479.\n",
      "[I 2024-10-28 17:58:10,034] Trial 14 finished with value: 0.8792607268853248 and parameters: {'n_estimators': 951, 'max_depth': 23, 'min_samples_split': 3, 'min_samples_leaf': 4}. Best is trial 9 with value: 0.8794274101879479.\n",
      "[I 2024-10-28 17:58:58,967] Trial 15 finished with value: 0.8786429418280903 and parameters: {'n_estimators': 1073, 'max_depth': 14, 'min_samples_split': 7, 'min_samples_leaf': 10}. Best is trial 9 with value: 0.8794274101879479.\n",
      "[I 2024-10-28 17:59:05,389] Trial 16 finished with value: 0.878258068184345 and parameters: {'n_estimators': 114, 'max_depth': 33, 'min_samples_split': 10, 'min_samples_leaf': 6}. Best is trial 9 with value: 0.8794274101879479.\n",
      "[I 2024-10-28 17:59:35,209] Trial 17 finished with value: 0.8757231397055051 and parameters: {'n_estimators': 864, 'max_depth': 8, 'min_samples_split': 3, 'min_samples_leaf': 4}. Best is trial 9 with value: 0.8794274101879479.\n",
      "[I 2024-10-28 18:00:12,989] Trial 18 finished with value: 0.8791545506616922 and parameters: {'n_estimators': 848, 'max_depth': 18, 'min_samples_split': 2, 'min_samples_leaf': 7}. Best is trial 9 with value: 0.8794274101879479.\n",
      "[I 2024-10-28 18:01:07,650] Trial 19 finished with value: 0.8789640619244452 and parameters: {'n_estimators': 1005, 'max_depth': 27, 'min_samples_split': 4, 'min_samples_leaf': 3}. Best is trial 9 with value: 0.8794274101879479.\n",
      "[I 2024-10-28 18:01:33,427] Trial 20 finished with value: 0.878861435089202 and parameters: {'n_estimators': 552, 'max_depth': 15, 'min_samples_split': 7, 'min_samples_leaf': 8}. Best is trial 9 with value: 0.8794274101879479.\n",
      "[I 2024-10-28 18:02:09,191] Trial 21 finished with value: 0.8793283030804957 and parameters: {'n_estimators': 755, 'max_depth': 35, 'min_samples_split': 8, 'min_samples_leaf': 7}. Best is trial 9 with value: 0.8794274101879479.\n",
      "[I 2024-10-28 18:02:41,486] Trial 22 finished with value: 0.8788583427750647 and parameters: {'n_estimators': 625, 'max_depth': 34, 'min_samples_split': 8, 'min_samples_leaf': 6}. Best is trial 9 with value: 0.8794274101879479.\n",
      "[I 2024-10-28 18:03:33,244] Trial 23 finished with value: 0.8788939781284434 and parameters: {'n_estimators': 1079, 'max_depth': 40, 'min_samples_split': 9, 'min_samples_leaf': 8}. Best is trial 9 with value: 0.8794274101879479.\n",
      "[I 2024-10-28 18:04:18,677] Trial 24 finished with value: 0.8790756698358034 and parameters: {'n_estimators': 888, 'max_depth': 36, 'min_samples_split': 8, 'min_samples_leaf': 5}. Best is trial 9 with value: 0.8794274101879479.\n",
      "[I 2024-10-28 18:05:12,152] Trial 25 finished with value: 0.8792864420943657 and parameters: {'n_estimators': 1096, 'max_depth': 26, 'min_samples_split': 6, 'min_samples_leaf': 7}. Best is trial 9 with value: 0.8794274101879479.\n",
      "[I 2024-10-28 18:05:38,371] Trial 26 finished with value: 0.878603590420164 and parameters: {'n_estimators': 569, 'max_depth': 31, 'min_samples_split': 10, 'min_samples_leaf': 9}. Best is trial 9 with value: 0.8794274101879479.\n",
      "[I 2024-10-28 18:06:26,429] Trial 27 finished with value: 0.8788963011626845 and parameters: {'n_estimators': 775, 'max_depth': 30, 'min_samples_split': 9, 'min_samples_leaf': 6}. Best is trial 9 with value: 0.8794274101879479.\n",
      "[I 2024-10-28 18:07:08,137] Trial 28 finished with value: 0.8785352942753557 and parameters: {'n_estimators': 931, 'max_depth': 22, 'min_samples_split': 8, 'min_samples_leaf': 10}. Best is trial 9 with value: 0.8794274101879479.\n",
      "[I 2024-10-28 18:07:38,718] Trial 29 finished with value: 0.8787642685615605 and parameters: {'n_estimators': 714, 'max_depth': 37, 'min_samples_split': 4, 'min_samples_leaf': 9}. Best is trial 9 with value: 0.8794274101879479.\n",
      "[I 2024-10-28 18:07:48,814] Trial 30 finished with value: 0.8739942521367186 and parameters: {'n_estimators': 346, 'max_depth': 7, 'min_samples_split': 7, 'min_samples_leaf': 8}. Best is trial 9 with value: 0.8794274101879479.\n",
      "[I 2024-10-28 18:08:26,129] Trial 31 finished with value: 0.8793972483593497 and parameters: {'n_estimators': 791, 'max_depth': 35, 'min_samples_split': 8, 'min_samples_leaf': 7}. Best is trial 9 with value: 0.8794274101879479.\n",
      "[I 2024-10-28 18:09:02,319] Trial 32 finished with value: 0.879365502595447 and parameters: {'n_estimators': 826, 'max_depth': 32, 'min_samples_split': 8, 'min_samples_leaf': 7}. Best is trial 9 with value: 0.8794274101879479.\n",
      "[I 2024-10-28 18:09:39,916] Trial 33 finished with value: 0.8791434341360211 and parameters: {'n_estimators': 783, 'max_depth': 37, 'min_samples_split': 9, 'min_samples_leaf': 5}. Best is trial 9 with value: 0.8794274101879479.\n",
      "[I 2024-10-28 18:10:30,014] Trial 34 finished with value: 0.8788847943771625 and parameters: {'n_estimators': 907, 'max_depth': 31, 'min_samples_split': 7, 'min_samples_leaf': 6}. Best is trial 9 with value: 0.8794274101879479.\n",
      "[I 2024-10-28 18:11:19,151] Trial 35 finished with value: 0.8793043160973785 and parameters: {'n_estimators': 1037, 'max_depth': 20, 'min_samples_split': 6, 'min_samples_leaf': 7}. Best is trial 9 with value: 0.8794274101879479.\n",
      "[I 2024-10-28 18:12:19,929] Trial 36 finished with value: 0.8788248403735068 and parameters: {'n_estimators': 813, 'max_depth': 28, 'min_samples_split': 8, 'min_samples_leaf': 8}. Best is trial 9 with value: 0.8794274101879479.\n",
      "[I 2024-10-28 18:14:01,321] Trial 37 finished with value: 0.8791588756783868 and parameters: {'n_estimators': 1130, 'max_depth': 25, 'min_samples_split': 10, 'min_samples_leaf': 3}. Best is trial 9 with value: 0.8794274101879479.\n",
      "[I 2024-10-28 18:14:45,367] Trial 38 finished with value: 0.87870314232134 and parameters: {'n_estimators': 663, 'max_depth': 12, 'min_samples_split': 9, 'min_samples_leaf': 7}. Best is trial 9 with value: 0.8794274101879479.\n",
      "[I 2024-10-28 18:15:51,698] Trial 39 finished with value: 0.8790526923778395 and parameters: {'n_estimators': 908, 'max_depth': 33, 'min_samples_split': 5, 'min_samples_leaf': 5}. Best is trial 9 with value: 0.8794274101879479.\n"
     ]
    }
   ],
   "source": [
    "def objective(trial):\n",
    "    n_estimators = trial.suggest_int(\"n_estimators\", 100, 1200)\n",
    "    max_depth = trial.suggest_int(\"max_depth\", 2, 40)\n",
    "    min_samples_split = trial.suggest_int(\"min_samples_split\", 2, 10)\n",
    "    min_samples_leaf = trial.suggest_int(\"min_samples_leaf\", 1, 10)\n",
    "\n",
    "    rf = RandomForestClassifier(\n",
    "        n_estimators=n_estimators,\n",
    "        max_depth=max_depth,\n",
    "        min_samples_split=min_samples_split,\n",
    "        min_samples_leaf=min_samples_leaf,\n",
    "        random_state=seed,\n",
    "        n_jobs=-1\n",
    "    )\n",
    "\n",
    "    roc_auc = cross_val_score(rf, X_train, y_train, cv=skf, scoring=\"roc_auc\", n_jobs=-1).mean()\n",
    "    \n",
    "    return roc_auc\n",
    "\n",
    "study = optuna.create_study(direction=\"maximize\")\n",
    "study.optimize(objective, n_trials=20)\n",
    "\n",
    "# Print the best parameters and score\n",
    "print(\"Best Parameters:\", study.best_params)\n",
    "print(\"Best ROC-AUC:\", study.best_value)\n",
    "\n",
    "# Train the best model on the full training set\n",
    "best_rf = RandomForestClassifier(**study.best_params, random_state=seed, n_jobs=-1)\n",
    "best_rf.fit(X_train, y_train)\n",
    "\n",
    "# Evaluate on the test set\n",
    "test_roc_auc = roc_auc_score(y_test, best_rf.predict_proba(X_test)[:, 1])\n",
    "print(\"Test ROC-AUC:\", test_roc_auc)\n",
    "\n"
   ]
  },
  {
   "cell_type": "markdown",
   "metadata": {},
   "source": [
    "# HPO with optuna and after manual with checking Overfitting and Create Submission file"
   ]
  },
  {
   "cell_type": "code",
   "execution_count": 12,
   "metadata": {},
   "outputs": [],
   "source": [
    "model = RandomForestClassifier(\n",
    "    random_state=1, \n",
    "    n_jobs=4,\n",
    "    n_estimators = 869,\n",
    "    max_depth = 39,\n",
    "    min_samples_split = 2,\n",
    "    min_samples_leaf = 8\n",
    ")\n",
    "model.fit(X, y)\n",
    "y_pred_test = model.predict_proba(test)[:, 1]\n",
    "df_submission = pd.DataFrame(pd.read_csv(\"test.csv\")[\"id\"])\n",
    "df_submission[\"smoking\"] = y_pred_test\n",
    "df_submission.to_csv(\"sample_submission.csv\", index=False)"
   ]
  },
  {
   "cell_type": "code",
   "execution_count": null,
   "metadata": {},
   "outputs": [],
   "source": []
  }
 ],
 "metadata": {
  "kernelspec": {
   "display_name": "Python 3",
   "language": "python",
   "name": "python3"
  },
  "language_info": {
   "codemirror_mode": {
    "name": "ipython",
    "version": 3
   },
   "file_extension": ".py",
   "mimetype": "text/x-python",
   "name": "python",
   "nbconvert_exporter": "python",
   "pygments_lexer": "ipython3",
   "version": "3.12.4"
  }
 },
 "nbformat": 4,
 "nbformat_minor": 2
}
